{
 "cells": [
  {
   "cell_type": "code",
   "execution_count": 1,
   "metadata": {},
   "outputs": [],
   "source": [
    "from Bio import Entrez, SeqIO\n",
    "\n",
    "# 用你的邮箱地址替换\n",
    "Entrez.email = \"201900700289@mail.sdu.edu.com\"\n",
    "\n",
    "def download_sequences(phylum_name, output_file):\n",
    "    # 构建查询字符串\n",
    "    query = f\"{phylum_name}[Organism] AND 16S[Title]\"\n",
    "\n",
    "    # 搜索 NCBI 数据库\n",
    "    search_handle = Entrez.esearch(db=\"nucleotide\", term=query, retmax=100000)\n",
    "    search_results = Entrez.read(search_handle)\n",
    "    search_handle.close()\n",
    "\n",
    "    # 获取序列 ID 列表\n",
    "    id_list = search_results[\"IdList\"]\n",
    "\n",
    "    # 下载序列\n",
    "    fetch_handle = Entrez.efetch(db=\"nucleotide\", id=id_list, rettype=\"fasta\", retmode=\"text\")\n",
    "    sequences = list(SeqIO.parse(fetch_handle, \"fasta\"))\n",
    "    fetch_handle.close()\n",
    "\n",
    "    # 保存序列到 FASTA 文件\n",
    "    SeqIO.write(sequences, output_file, \"fasta\")\n",
    "\n",
    "# 将 \"Firmicutes\" 替换为您感兴趣的门的名称\n",
    "phylum_name = \"Chlamydiae\"\n",
    "output_file = \"16S_sequences.fasta\"\n",
    "\n",
    "download_sequences(phylum_name, output_file)\n"
   ]
  }
 ],
 "metadata": {
  "kernelspec": {
   "display_name": "base",
   "language": "python",
   "name": "python3"
  },
  "language_info": {
   "codemirror_mode": {
    "name": "ipython",
    "version": 3
   },
   "file_extension": ".py",
   "mimetype": "text/x-python",
   "name": "python",
   "nbconvert_exporter": "python",
   "pygments_lexer": "ipython3",
   "version": "3.9.13"
  },
  "orig_nbformat": 4
 },
 "nbformat": 4,
 "nbformat_minor": 2
}
