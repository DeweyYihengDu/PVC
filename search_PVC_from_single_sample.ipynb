{
 "cells": [
  {
   "cell_type": "code",
   "execution_count": 2,
   "metadata": {},
   "outputs": [],
   "source": [
    "import os\n",
    "\n",
    "# folder_path = 'C:/Users/DuYih/Desktop/PVC/Single_Sample'\n",
    "\n",
    "# output_file = open('output.csv', 'w')\n",
    "# output_file.write('File,Line\\n')  # 输出文件头\n",
    "\n",
    "# for dirpath, dirnames, filenames in os.walk(folder_path):\n",
    "#     for filename in filenames:\n",
    "#         if filename == 'classification.txt':\n",
    "#             filepath = os.path.join(dirpath, filename)\n",
    "#             with open(filepath, 'r') as f:\n",
    "#                 for line in f:\n",
    "#                     if 'Verrucomicrobia' or 'Planctomycetales' or 'Chlamydiae' in line:\n",
    "#                         output_file.write('{},{}'.format(filepath, line))\n",
    "                        \n",
    "# output_file.close()\n"
   ]
  },
  {
   "cell_type": "markdown",
   "metadata": {},
   "source": [
    "# Verrucomicrobia in maps"
   ]
  },
  {
   "cell_type": "code",
   "execution_count": 3,
   "metadata": {},
   "outputs": [],
   "source": [
    "def filter_samples(sample_data_path, keyword=\"Verrucomicrobia\"):\n",
    "    with open(sample_data_path, 'r', encoding='utf-8') as f:  # specify the encoding\n",
    "        content = f.read()\n",
    "\n",
    "    samples = content.split(\">\")[1:]  \n",
    "    filtered_samples = [sample for sample in samples if keyword in sample]\n",
    "\n",
    "    return filtered_samples\n"
   ]
  },
  {
   "cell_type": "code",
   "execution_count": 4,
   "metadata": {},
   "outputs": [
    {
     "ename": "MemoryError",
     "evalue": "",
     "output_type": "error",
     "traceback": [
      "\u001b[1;31m---------------------------------------------------------------------------\u001b[0m",
      "\u001b[1;31mMemoryError\u001b[0m                               Traceback (most recent call last)",
      "\u001b[1;32mc:\\Users\\DuYih\\Desktop\\github\\PVC\\search_PVC_from_single_sample.ipynb 单元格 4\u001b[0m in \u001b[0;36m1\n\u001b[1;32m----> <a href='vscode-notebook-cell:/c%3A/Users/DuYih/Desktop/github/PVC/search_PVC_from_single_sample.ipynb#W4sZmlsZQ%3D%3D?line=0'>1</a>\u001b[0m verrucomicrobia_samples \u001b[39m=\u001b[39m filter_samples(\u001b[39m'\u001b[39;49m\u001b[39msamples.info\u001b[39;49m\u001b[39m'\u001b[39;49m)\n",
      "\u001b[1;32mc:\\Users\\DuYih\\Desktop\\github\\PVC\\search_PVC_from_single_sample.ipynb 单元格 4\u001b[0m in \u001b[0;36m3\n\u001b[0;32m      <a href='vscode-notebook-cell:/c%3A/Users/DuYih/Desktop/github/PVC/search_PVC_from_single_sample.ipynb#W4sZmlsZQ%3D%3D?line=0'>1</a>\u001b[0m \u001b[39mdef\u001b[39;00m \u001b[39mfilter_samples\u001b[39m(sample_data_path, keyword\u001b[39m=\u001b[39m\u001b[39m\"\u001b[39m\u001b[39mVerrucomicrobia\u001b[39m\u001b[39m\"\u001b[39m):\n\u001b[0;32m      <a href='vscode-notebook-cell:/c%3A/Users/DuYih/Desktop/github/PVC/search_PVC_from_single_sample.ipynb#W4sZmlsZQ%3D%3D?line=1'>2</a>\u001b[0m     \u001b[39mwith\u001b[39;00m \u001b[39mopen\u001b[39m(sample_data_path, \u001b[39m'\u001b[39m\u001b[39mr\u001b[39m\u001b[39m'\u001b[39m, encoding\u001b[39m=\u001b[39m\u001b[39m'\u001b[39m\u001b[39mutf-8\u001b[39m\u001b[39m'\u001b[39m) \u001b[39mas\u001b[39;00m f:  \u001b[39m# specify the encoding\u001b[39;00m\n\u001b[1;32m----> <a href='vscode-notebook-cell:/c%3A/Users/DuYih/Desktop/github/PVC/search_PVC_from_single_sample.ipynb#W4sZmlsZQ%3D%3D?line=2'>3</a>\u001b[0m         content \u001b[39m=\u001b[39m f\u001b[39m.\u001b[39;49mread()\n\u001b[0;32m      <a href='vscode-notebook-cell:/c%3A/Users/DuYih/Desktop/github/PVC/search_PVC_from_single_sample.ipynb#W4sZmlsZQ%3D%3D?line=4'>5</a>\u001b[0m     samples \u001b[39m=\u001b[39m content\u001b[39m.\u001b[39msplit(\u001b[39m\"\u001b[39m\u001b[39m>\u001b[39m\u001b[39m\"\u001b[39m)[\u001b[39m1\u001b[39m:]  \n\u001b[0;32m      <a href='vscode-notebook-cell:/c%3A/Users/DuYih/Desktop/github/PVC/search_PVC_from_single_sample.ipynb#W4sZmlsZQ%3D%3D?line=5'>6</a>\u001b[0m     filtered_samples \u001b[39m=\u001b[39m [sample \u001b[39mfor\u001b[39;00m sample \u001b[39min\u001b[39;00m samples \u001b[39mif\u001b[39;00m keyword \u001b[39min\u001b[39;00m sample]\n",
      "File \u001b[1;32m<frozen codecs>:322\u001b[0m, in \u001b[0;36mdecode\u001b[1;34m(self, input, final)\u001b[0m\n",
      "\u001b[1;31mMemoryError\u001b[0m: "
     ]
    }
   ],
   "source": [
    "verrucomicrobia_samples = filter_samples('samples.info')"
   ]
  },
  {
   "cell_type": "code",
   "execution_count": 12,
   "metadata": {},
   "outputs": [],
   "source": [
    "def filter_samples(sample_data_path, keyword=\"Verrucomicrobia\"):\n",
    "    with open(sample_data_path, 'r', encoding='utf-8') as f:\n",
    "        sample = \"\"\n",
    "        for line in f:\n",
    "            if line.startswith(\">\"):\n",
    "                if keyword in sample:\n",
    "                    yield sample\n",
    "                sample = line\n",
    "            else:\n",
    "                sample += line\n",
    "        if keyword in sample:  # don't forget the last sample\n",
    "            yield sample\n",
    "\n",
    "# with open('verrucomicrobia_samples.txt', 'w') as f:\n",
    "#     for sample in filter_samples('samples.info'):\n",
    "#         f.write(\">\" + sample) \n",
    "\n",
    "with open('verrucomicrobia_samples.txt', 'w', encoding='utf-8') as f:\n",
    "    for sample in filter_samples('samples.info'):\n",
    "        f.write(sample) \n"
   ]
  },
  {
   "cell_type": "code",
   "execution_count": 19,
   "metadata": {},
   "outputs": [
    {
     "name": "stdout",
     "output_type": "stream",
     "text": [
      "The proportion of Verrucomicrobia in the sample is: None\n"
     ]
    }
   ],
   "source": [
    "import requests\n",
    "import xml.etree.ElementTree as ET\n",
    "\n",
    "def get_biosample_data(biosample_accession):\n",
    "    url = f\"https://eutils.ncbi.nlm.nih.gov/entrez/eutils/efetch.fcgi?db=biosample&id={biosample_accession}&rettype=xml\"\n",
    "    response = requests.get(url)\n",
    "    if response.status_code == 200:\n",
    "        return response.content\n",
    "    else:\n",
    "        raise ValueError(\"Failed to fetch biosample data\")\n",
    "\n",
    "def get_bacterial_proportion(xml_content, bacterium_name):\n",
    "    root = ET.fromstring(xml_content)\n",
    "    bacterial_proportion = None\n",
    "    for sample in root.findall('.//BioSample'):\n",
    "        organism = sample.find('.//Organism')\n",
    "        if organism.get('taxonomy_name') == bacterium_name:\n",
    "            attributes = sample.findall('.//Attribute')\n",
    "            for attribute in attributes:\n",
    "                if attribute.get('attribute_name') == 'organism_percent':\n",
    "                    bacterial_proportion = attribute.text\n",
    "                    break\n",
    "    return bacterial_proportion\n",
    "\n",
    "# 用法示例\n",
    "biosample_accession = '>ERS1882903'  # 替换为实际的 biosample accession 号码\n",
    "bacterium_name = 'Verrucomicrobia'  # 替换为实际的细菌名称\n",
    "xml_content = get_biosample_data(biosample_accession)\n",
    "proportion = get_bacterial_proportion(xml_content, bacterium_name)\n",
    "print(f\"The proportion of {bacterium_name} in the sample is: {proportion}\")\n"
   ]
  }
 ],
 "metadata": {
  "kernelspec": {
   "display_name": "base",
   "language": "python",
   "name": "python3"
  },
  "language_info": {
   "codemirror_mode": {
    "name": "ipython",
    "version": 3
   },
   "file_extension": ".py",
   "mimetype": "text/x-python",
   "name": "python",
   "nbconvert_exporter": "python",
   "pygments_lexer": "ipython3",
   "version": "3.11.0"
  },
  "orig_nbformat": 4
 },
 "nbformat": 4,
 "nbformat_minor": 2
}
