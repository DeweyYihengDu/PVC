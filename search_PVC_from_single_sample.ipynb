{
 "cells": [
  {
   "cell_type": "code",
   "execution_count": 2,
   "metadata": {},
   "outputs": [],
   "source": [
    "import os\n",
    "\n",
    "folder_path = 'C:/Users/DuYih/Desktop/PVC/Single_Sample'\n",
    "\n",
    "output_file = open('output.csv', 'w')\n",
    "output_file.write('File,Line\\n')  # 输出文件头\n",
    "\n",
    "for dirpath, dirnames, filenames in os.walk(folder_path):\n",
    "    for filename in filenames:\n",
    "        if filename == 'classification.txt':\n",
    "            filepath = os.path.join(dirpath, filename)\n",
    "            with open(filepath, 'r') as f:\n",
    "                for line in f:\n",
    "                    if 'Verrucomicrobia' or 'Planctomycetales' or 'Chlamydiae' in line:\n",
    "                        output_file.write('{},{}'.format(filepath, line))\n",
    "                        \n",
    "output_file.close()\n"
   ]
  }
 ],
 "metadata": {
  "kernelspec": {
   "display_name": "base",
   "language": "python",
   "name": "python3"
  },
  "language_info": {
   "codemirror_mode": {
    "name": "ipython",
    "version": 3
   },
   "file_extension": ".py",
   "mimetype": "text/x-python",
   "name": "python",
   "nbconvert_exporter": "python",
   "pygments_lexer": "ipython3",
   "version": "3.9.13"
  },
  "orig_nbformat": 4
 },
 "nbformat": 4,
 "nbformat_minor": 2
}
