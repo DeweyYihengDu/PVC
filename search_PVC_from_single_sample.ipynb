{
 "cells": [
  {
   "cell_type": "code",
   "execution_count": 2,
   "metadata": {},
   "outputs": [],
   "source": [
    "import os\n",
    "\n",
    "# folder_path = 'C:/Users/DuYih/Desktop/PVC/Single_Sample'\n",
    "\n",
    "# output_file = open('output.csv', 'w')\n",
    "# output_file.write('File,Line\\n')  # 输出文件头\n",
    "\n",
    "# for dirpath, dirnames, filenames in os.walk(folder_path):\n",
    "#     for filename in filenames:\n",
    "#         if filename == 'classification.txt':\n",
    "#             filepath = os.path.join(dirpath, filename)\n",
    "#             with open(filepath, 'r') as f:\n",
    "#                 for line in f:\n",
    "#                     if 'Verrucomicrobia' or 'Planctomycetales' or 'Chlamydiae' in line:\n",
    "#                         output_file.write('{},{}'.format(filepath, line))\n",
    "                        \n",
    "# output_file.close()\n"
   ]
  },
  {
   "cell_type": "markdown",
   "metadata": {},
   "source": [
    "# Verrucomicrobia in maps"
   ]
  },
  {
   "cell_type": "code",
   "execution_count": 3,
   "metadata": {},
   "outputs": [],
   "source": [
    "def filter_samples(sample_data_path, keyword=\"Verrucomicrobia\"):\n",
    "    with open(sample_data_path, 'r', encoding='utf-8') as f:  # specify the encoding\n",
    "        content = f.read()\n",
    "\n",
    "    samples = content.split(\">\")[1:]  \n",
    "    filtered_samples = [sample for sample in samples if keyword in sample]\n",
    "\n",
    "    return filtered_samples\n"
   ]
  },
  {
   "cell_type": "code",
   "execution_count": 4,
   "metadata": {},
   "outputs": [
    {
     "ename": "MemoryError",
     "evalue": "",
     "output_type": "error",
     "traceback": [
      "\u001b[1;31m---------------------------------------------------------------------------\u001b[0m",
      "\u001b[1;31mMemoryError\u001b[0m                               Traceback (most recent call last)",
      "\u001b[1;32mc:\\Users\\DuYih\\Desktop\\github\\PVC\\search_PVC_from_single_sample.ipynb 单元格 4\u001b[0m in \u001b[0;36m1\n\u001b[1;32m----> <a href='vscode-notebook-cell:/c%3A/Users/DuYih/Desktop/github/PVC/search_PVC_from_single_sample.ipynb#W4sZmlsZQ%3D%3D?line=0'>1</a>\u001b[0m verrucomicrobia_samples \u001b[39m=\u001b[39m filter_samples(\u001b[39m'\u001b[39;49m\u001b[39msamples.info\u001b[39;49m\u001b[39m'\u001b[39;49m)\n",
      "\u001b[1;32mc:\\Users\\DuYih\\Desktop\\github\\PVC\\search_PVC_from_single_sample.ipynb 单元格 4\u001b[0m in \u001b[0;36m3\n\u001b[0;32m      <a href='vscode-notebook-cell:/c%3A/Users/DuYih/Desktop/github/PVC/search_PVC_from_single_sample.ipynb#W4sZmlsZQ%3D%3D?line=0'>1</a>\u001b[0m \u001b[39mdef\u001b[39;00m \u001b[39mfilter_samples\u001b[39m(sample_data_path, keyword\u001b[39m=\u001b[39m\u001b[39m\"\u001b[39m\u001b[39mVerrucomicrobia\u001b[39m\u001b[39m\"\u001b[39m):\n\u001b[0;32m      <a href='vscode-notebook-cell:/c%3A/Users/DuYih/Desktop/github/PVC/search_PVC_from_single_sample.ipynb#W4sZmlsZQ%3D%3D?line=1'>2</a>\u001b[0m     \u001b[39mwith\u001b[39;00m \u001b[39mopen\u001b[39m(sample_data_path, \u001b[39m'\u001b[39m\u001b[39mr\u001b[39m\u001b[39m'\u001b[39m, encoding\u001b[39m=\u001b[39m\u001b[39m'\u001b[39m\u001b[39mutf-8\u001b[39m\u001b[39m'\u001b[39m) \u001b[39mas\u001b[39;00m f:  \u001b[39m# specify the encoding\u001b[39;00m\n\u001b[1;32m----> <a href='vscode-notebook-cell:/c%3A/Users/DuYih/Desktop/github/PVC/search_PVC_from_single_sample.ipynb#W4sZmlsZQ%3D%3D?line=2'>3</a>\u001b[0m         content \u001b[39m=\u001b[39m f\u001b[39m.\u001b[39;49mread()\n\u001b[0;32m      <a href='vscode-notebook-cell:/c%3A/Users/DuYih/Desktop/github/PVC/search_PVC_from_single_sample.ipynb#W4sZmlsZQ%3D%3D?line=4'>5</a>\u001b[0m     samples \u001b[39m=\u001b[39m content\u001b[39m.\u001b[39msplit(\u001b[39m\"\u001b[39m\u001b[39m>\u001b[39m\u001b[39m\"\u001b[39m)[\u001b[39m1\u001b[39m:]  \n\u001b[0;32m      <a href='vscode-notebook-cell:/c%3A/Users/DuYih/Desktop/github/PVC/search_PVC_from_single_sample.ipynb#W4sZmlsZQ%3D%3D?line=5'>6</a>\u001b[0m     filtered_samples \u001b[39m=\u001b[39m [sample \u001b[39mfor\u001b[39;00m sample \u001b[39min\u001b[39;00m samples \u001b[39mif\u001b[39;00m keyword \u001b[39min\u001b[39;00m sample]\n",
      "File \u001b[1;32m<frozen codecs>:322\u001b[0m, in \u001b[0;36mdecode\u001b[1;34m(self, input, final)\u001b[0m\n",
      "\u001b[1;31mMemoryError\u001b[0m: "
     ]
    }
   ],
   "source": [
    "verrucomicrobia_samples = filter_samples('samples.info')"
   ]
  },
  {
   "cell_type": "code",
   "execution_count": 12,
   "metadata": {},
   "outputs": [],
   "source": [
    "def filter_samples(sample_data_path, keyword=\"Verrucomicrobia\"):\n",
    "    with open(sample_data_path, 'r', encoding='utf-8') as f:\n",
    "        sample = \"\"\n",
    "        for line in f:\n",
    "            if line.startswith(\">\"):\n",
    "                if keyword in sample:\n",
    "                    yield sample\n",
    "                sample = line\n",
    "            else:\n",
    "                sample += line\n",
    "        if keyword in sample:  # don't forget the last sample\n",
    "            yield sample\n",
    "\n",
    "# with open('verrucomicrobia_samples.txt', 'w') as f:\n",
    "#     for sample in filter_samples('samples.info'):\n",
    "#         f.write(\">\" + sample) \n",
    "\n",
    "with open('verrucomicrobia_samples.txt', 'w', encoding='utf-8') as f:\n",
    "    for sample in filter_samples('samples.info'):\n",
    "        f.write(sample) \n"
   ]
  },
  {
   "cell_type": "code",
   "execution_count": 4,
   "metadata": {},
   "outputs": [
    {
     "data": {
      "text/html": [
       "<div>\n",
       "<style scoped>\n",
       "    .dataframe tbody tr th:only-of-type {\n",
       "        vertical-align: middle;\n",
       "    }\n",
       "\n",
       "    .dataframe tbody tr th {\n",
       "        vertical-align: top;\n",
       "    }\n",
       "\n",
       "    .dataframe thead th {\n",
       "        text-align: right;\n",
       "    }\n",
       "</style>\n",
       "<table border=\"1\" class=\"dataframe\">\n",
       "  <thead>\n",
       "    <tr style=\"text-align: right;\">\n",
       "      <th></th>\n",
       "      <th>&gt;SRS994464</th>\n",
       "    </tr>\n",
       "  </thead>\n",
       "  <tbody>\n",
       "    <tr>\n",
       "      <th>0</th>\n",
       "      <td>sample_center_name=</td>\n",
       "    </tr>\n",
       "    <tr>\n",
       "      <th>1</th>\n",
       "      <td>sample_alias=NASH_50</td>\n",
       "    </tr>\n",
       "    <tr>\n",
       "      <th>2</th>\n",
       "      <td>sample_TAXON_ID=408170</td>\n",
       "    </tr>\n",
       "    <tr>\n",
       "      <th>3</th>\n",
       "      <td>sample_SCIENTIFIC_NAME=human gut metagenome</td>\n",
       "    </tr>\n",
       "    <tr>\n",
       "      <th>4</th>\n",
       "      <td>sample_XREF_LINK=bioproject: 286838)</td>\n",
       "    </tr>\n",
       "  </tbody>\n",
       "</table>\n",
       "</div>"
      ],
      "text/plain": [
       "                                    >SRS994464\n",
       "0                          sample_center_name=\n",
       "1                         sample_alias=NASH_50\n",
       "2                       sample_TAXON_ID=408170\n",
       "3  sample_SCIENTIFIC_NAME=human gut metagenome\n",
       "4         sample_XREF_LINK=bioproject: 286838)"
      ]
     },
     "execution_count": 4,
     "metadata": {},
     "output_type": "execute_result"
    }
   ],
   "source": [
    "import pandas as pd\n",
    "\n",
    "# Load the data\n",
    "data = pd.read_csv(\"verrucomicrobia_samples.txt\", sep=\"\\t\")\n",
    "\n",
    "# Display the first few rows of the dataframe\n",
    "data.head()\n"
   ]
  },
  {
   "cell_type": "code",
   "execution_count": 22,
   "metadata": {},
   "outputs": [],
   "source": [
    "# Initialize an empty dictionary to store the data\n",
    "data_dict = {}\n",
    "# Initialize an empty dictionary to store the current sample's data\n",
    "current_sample = {}\n",
    "# Initialize an empty string to store the current sample's ID\n",
    "current_sample_id = \"\"\n",
    "\n",
    "# Iterate over each row in the data\n",
    "for row in data.iterrows():\n",
    "    # Get the row's data\n",
    "    row_data = row[1][0]\n",
    "    # If the row's data starts with \">\", it's a new sample ID\n",
    "    if row_data.startswith(\">\"):\n",
    "        # If we have data for the current sample, add it to the data dictionary\n",
    "        if current_sample:\n",
    "            data_dict[current_sample_id] = current_sample\n",
    "        # Reset the current sample's data\n",
    "        current_sample = {}\n",
    "        # Set the current sample ID to the new sample ID (minus the \">\")\n",
    "        current_sample_id = row_data[1:]\n",
    "    # If the row's data contains \"=\", it's a key-value pair\n",
    "    elif \"=\" in row_data:\n",
    "        # Split the key and value\n",
    "        key, value = row_data.split(\"=\", 1)\n",
    "        # Add the key-value pair to the current sample's data\n",
    "        current_sample[key] = value\n",
    "\n",
    "# Add the last sample's data to the data dictionary\n",
    "if current_sample:\n",
    "    data_dict[current_sample_id] = current_sample\n",
    "\n",
    "# Convert the data dictionary to a DataFrame\n",
    "samples_df = pd.DataFrame.from_dict(data_dict, orient=\"index\")\n",
    "\n",
    "samples_df.to_csv(\"verrucomicrobia_samples.csv\")"
   ]
  },
  {
   "cell_type": "code",
   "execution_count": 1,
   "metadata": {},
   "outputs": [
    {
     "ename": "NameError",
     "evalue": "name 'samples_df' is not defined",
     "output_type": "error",
     "traceback": [
      "\u001b[1;31m---------------------------------------------------------------------------\u001b[0m",
      "\u001b[1;31mNameError\u001b[0m                                 Traceback (most recent call last)",
      "\u001b[1;32mc:\\Users\\DuYih\\Desktop\\github\\PVC\\search_PVC_from_single_sample.ipynb 单元格 8\u001b[0m in \u001b[0;36m1\n\u001b[1;32m----> <a href='vscode-notebook-cell:/c%3A/Users/DuYih/Desktop/github/PVC/search_PVC_from_single_sample.ipynb#X10sZmlsZQ%3D%3D?line=0'>1</a>\u001b[0m samples_with_coordinates \u001b[39m=\u001b[39m samples_df\u001b[39m.\u001b[39mdropna(subset\u001b[39m=\u001b[39m[\u001b[39m'\u001b[39m\u001b[39msample_geo_loc_name\u001b[39m\u001b[39m'\u001b[39m])\n\u001b[0;32m      <a href='vscode-notebook-cell:/c%3A/Users/DuYih/Desktop/github/PVC/search_PVC_from_single_sample.ipynb#X10sZmlsZQ%3D%3D?line=2'>3</a>\u001b[0m \u001b[39m# Remove rows where geo location is 'not provided'\u001b[39;00m\n\u001b[0;32m      <a href='vscode-notebook-cell:/c%3A/Users/DuYih/Desktop/github/PVC/search_PVC_from_single_sample.ipynb#X10sZmlsZQ%3D%3D?line=3'>4</a>\u001b[0m samples_with_coordinates \u001b[39m=\u001b[39m samples_with_coordinates[samples_with_coordinates[\u001b[39m'\u001b[39m\u001b[39msample_geo_loc_name\u001b[39m\u001b[39m'\u001b[39m] \u001b[39m!=\u001b[39m \u001b[39m'\u001b[39m\u001b[39mnot provided\u001b[39m\u001b[39m'\u001b[39m]\n",
      "\u001b[1;31mNameError\u001b[0m: name 'samples_df' is not defined"
     ]
    }
   ],
   "source": [
    "samples_with_coordinates = samples_df.dropna(subset=['sample_geo_loc_name'])\n",
    "\n",
    "# Remove rows where geo location is 'not provided'\n",
    "samples_with_coordinates = samples_with_coordinates[samples_with_coordinates['sample_geo_loc_name'] != 'not provided']\n",
    "\n",
    "samples_with_coordinates.to_csv(\"verrucomicrobia_samples_with_coordinates.csv\")\n"
   ]
  },
  {
   "cell_type": "code",
   "execution_count": 6,
   "metadata": {},
   "outputs": [
    {
     "name": "stdout",
     "output_type": "stream",
     "text": [
      "网页标题: Microbe Atlas Project (MAP)\n",
      "链接列表:\n",
      "javascript:open_landing();\n",
      "javascript:open_taxa();\n",
      "javascript:open_samples();\n",
      "javascript:open_projects();\n",
      "javascript:open_publications();\n",
      "javascript:open_habitats();\n",
      "javascript:open_mapseq();\n",
      "#\n",
      "javascript:open_about();\n",
      "javascript:open_help();\n",
      "javascript:open_contributors();\n",
      "javascript:open_contact();\n",
      "javascript:open_download();\n",
      "https://github.com/meringlab/MicrobeAtlasWebsite/issues\n",
      "http://www.uzh.ch\n",
      "https://nccr-microbiomes.ch/\n",
      "http://www.isb-sib.ch\n",
      "javascript:open_contributors();\n",
      "javascript:open_contact();\n",
      "https://github.com/jfmrod/MAPseq\n"
     ]
    }
   ],
   "source": [
    "import requests\n",
    "from bs4 import BeautifulSoup\n",
    "\n",
    "# 发起HTTP请求获取网页内容\n",
    "url = \"https://microbeatlas.org/index.html?action=sample_detail&sid=DRS016395&rid=DRR019542\"  # 替换成你要爬取的网站URL\n",
    "response = requests.get(url)\n",
    "html_content = response.content\n",
    "\n",
    "# 解析HTML内容\n",
    "soup = BeautifulSoup(html_content, \"html.parser\")\n",
    "\n",
    "# 查找特定内容\n",
    "title = soup.title.text  # 获取网页标题\n",
    "links = soup.find_all(\"a\")  \n",
    "\n",
    "# 输出结果\n",
    "print(\"网页标题:\", title)\n",
    "print(\"链接列表:\")\n",
    "for link in links:\n",
    "    print(link.get(\"href\"))\n",
    "filtered_links = [link.get(\"href\") for link in links if link.get(\"href\").startswith((\"http://\", \"https://\"))]\n"
   ]
  },
  {
   "cell_type": "code",
   "execution_count": 9,
   "metadata": {},
   "outputs": [
    {
     "ename": "HTTPError",
     "evalue": "HTTP Error 400: Bad Request",
     "output_type": "error",
     "traceback": [
      "\u001b[1;31m---------------------------------------------------------------------------\u001b[0m",
      "\u001b[1;31mHTTPError\u001b[0m                                 Traceback (most recent call last)",
      "\u001b[1;32mc:\\Users\\DuYih\\Desktop\\github\\PVC\\search_PVC_from_single_sample.ipynb 单元格 10\u001b[0m in \u001b[0;36m1\n\u001b[0;32m      <a href='vscode-notebook-cell:/c%3A/Users/DuYih/Desktop/github/PVC/search_PVC_from_single_sample.ipynb#X12sZmlsZQ%3D%3D?line=7'>8</a>\u001b[0m     \u001b[39mreturn\u001b[39;00m data\n\u001b[0;32m     <a href='vscode-notebook-cell:/c%3A/Users/DuYih/Desktop/github/PVC/search_PVC_from_single_sample.ipynb#X12sZmlsZQ%3D%3D?line=9'>10</a>\u001b[0m accession_number \u001b[39m=\u001b[39m \u001b[39m'\u001b[39m\u001b[39mERS1882911\u001b[39m\u001b[39m'\u001b[39m\n\u001b[1;32m---> <a href='vscode-notebook-cell:/c%3A/Users/DuYih/Desktop/github/PVC/search_PVC_from_single_sample.ipynb#X12sZmlsZQ%3D%3D?line=10'>11</a>\u001b[0m sample_data \u001b[39m=\u001b[39m download_sample_data(accession_number)\n\u001b[0;32m     <a href='vscode-notebook-cell:/c%3A/Users/DuYih/Desktop/github/PVC/search_PVC_from_single_sample.ipynb#X12sZmlsZQ%3D%3D?line=11'>12</a>\u001b[0m \u001b[39mfrom\u001b[39;00m \u001b[39mBio\u001b[39;00m \u001b[39mimport\u001b[39;00m SeqIO\n\u001b[0;32m     <a href='vscode-notebook-cell:/c%3A/Users/DuYih/Desktop/github/PVC/search_PVC_from_single_sample.ipynb#X12sZmlsZQ%3D%3D?line=13'>14</a>\u001b[0m \u001b[39mdef\u001b[39;00m \u001b[39mcalculate_species_proportion\u001b[39m(fasta_data, target_species):\n",
      "\u001b[1;32mc:\\Users\\DuYih\\Desktop\\github\\PVC\\search_PVC_from_single_sample.ipynb 单元格 10\u001b[0m in \u001b[0;36m5\n\u001b[0;32m      <a href='vscode-notebook-cell:/c%3A/Users/DuYih/Desktop/github/PVC/search_PVC_from_single_sample.ipynb#X12sZmlsZQ%3D%3D?line=2'>3</a>\u001b[0m \u001b[39mdef\u001b[39;00m \u001b[39mdownload_sample_data\u001b[39m(accession_number):\n\u001b[0;32m      <a href='vscode-notebook-cell:/c%3A/Users/DuYih/Desktop/github/PVC/search_PVC_from_single_sample.ipynb#X12sZmlsZQ%3D%3D?line=3'>4</a>\u001b[0m     Entrez\u001b[39m.\u001b[39memail \u001b[39m=\u001b[39m \u001b[39m'\u001b[39m\u001b[39mu7457260@anu.edu.au\u001b[39m\u001b[39m'\u001b[39m  \n\u001b[1;32m----> <a href='vscode-notebook-cell:/c%3A/Users/DuYih/Desktop/github/PVC/search_PVC_from_single_sample.ipynb#X12sZmlsZQ%3D%3D?line=4'>5</a>\u001b[0m     handle \u001b[39m=\u001b[39m Entrez\u001b[39m.\u001b[39;49mefetch(db\u001b[39m=\u001b[39;49m\u001b[39m'\u001b[39;49m\u001b[39mnuccore\u001b[39;49m\u001b[39m'\u001b[39;49m, \u001b[39mid\u001b[39;49m\u001b[39m=\u001b[39;49maccession_number, rettype\u001b[39m=\u001b[39;49m\u001b[39m'\u001b[39;49m\u001b[39mfasta\u001b[39;49m\u001b[39m'\u001b[39;49m, retmode\u001b[39m=\u001b[39;49m\u001b[39m'\u001b[39;49m\u001b[39mtext\u001b[39;49m\u001b[39m'\u001b[39;49m)\n\u001b[0;32m      <a href='vscode-notebook-cell:/c%3A/Users/DuYih/Desktop/github/PVC/search_PVC_from_single_sample.ipynb#X12sZmlsZQ%3D%3D?line=5'>6</a>\u001b[0m     data \u001b[39m=\u001b[39m handle\u001b[39m.\u001b[39mread()\n\u001b[0;32m      <a href='vscode-notebook-cell:/c%3A/Users/DuYih/Desktop/github/PVC/search_PVC_from_single_sample.ipynb#X12sZmlsZQ%3D%3D?line=6'>7</a>\u001b[0m     handle\u001b[39m.\u001b[39mclose()\n",
      "File \u001b[1;32mc:\\Users\\DuYih\\AppData\\Local\\Programs\\Python\\Python311\\Lib\\site-packages\\Bio\\Entrez\\__init__.py:196\u001b[0m, in \u001b[0;36mefetch\u001b[1;34m(db, **keywords)\u001b[0m\n\u001b[0;32m    194\u001b[0m variables\u001b[39m.\u001b[39mupdate(keywords)\n\u001b[0;32m    195\u001b[0m request \u001b[39m=\u001b[39m _build_request(cgi, variables)\n\u001b[1;32m--> 196\u001b[0m \u001b[39mreturn\u001b[39;00m _open(request)\n",
      "File \u001b[1;32mc:\\Users\\DuYih\\AppData\\Local\\Programs\\Python\\Python311\\Lib\\site-packages\\Bio\\Entrez\\__init__.py:586\u001b[0m, in \u001b[0;36m_open\u001b[1;34m(request)\u001b[0m\n\u001b[0;32m    584\u001b[0m \u001b[39mfor\u001b[39;00m i \u001b[39min\u001b[39;00m \u001b[39mrange\u001b[39m(max_tries):\n\u001b[0;32m    585\u001b[0m     \u001b[39mtry\u001b[39;00m:\n\u001b[1;32m--> 586\u001b[0m         handle \u001b[39m=\u001b[39m urlopen(request)\n\u001b[0;32m    587\u001b[0m     \u001b[39mexcept\u001b[39;00m HTTPError \u001b[39mas\u001b[39;00m exception:\n\u001b[0;32m    588\u001b[0m         \u001b[39m# Reraise if the final try fails\u001b[39;00m\n\u001b[0;32m    589\u001b[0m         \u001b[39mif\u001b[39;00m i \u001b[39m>\u001b[39m\u001b[39m=\u001b[39m max_tries \u001b[39m-\u001b[39m \u001b[39m1\u001b[39m:\n",
      "File \u001b[1;32mc:\\Users\\DuYih\\AppData\\Local\\Programs\\Python\\Python311\\Lib\\urllib\\request.py:216\u001b[0m, in \u001b[0;36murlopen\u001b[1;34m(url, data, timeout, cafile, capath, cadefault, context)\u001b[0m\n\u001b[0;32m    214\u001b[0m \u001b[39melse\u001b[39;00m:\n\u001b[0;32m    215\u001b[0m     opener \u001b[39m=\u001b[39m _opener\n\u001b[1;32m--> 216\u001b[0m \u001b[39mreturn\u001b[39;00m opener\u001b[39m.\u001b[39;49mopen(url, data, timeout)\n",
      "File \u001b[1;32mc:\\Users\\DuYih\\AppData\\Local\\Programs\\Python\\Python311\\Lib\\urllib\\request.py:525\u001b[0m, in \u001b[0;36mOpenerDirector.open\u001b[1;34m(self, fullurl, data, timeout)\u001b[0m\n\u001b[0;32m    523\u001b[0m \u001b[39mfor\u001b[39;00m processor \u001b[39min\u001b[39;00m \u001b[39mself\u001b[39m\u001b[39m.\u001b[39mprocess_response\u001b[39m.\u001b[39mget(protocol, []):\n\u001b[0;32m    524\u001b[0m     meth \u001b[39m=\u001b[39m \u001b[39mgetattr\u001b[39m(processor, meth_name)\n\u001b[1;32m--> 525\u001b[0m     response \u001b[39m=\u001b[39m meth(req, response)\n\u001b[0;32m    527\u001b[0m \u001b[39mreturn\u001b[39;00m response\n",
      "File \u001b[1;32mc:\\Users\\DuYih\\AppData\\Local\\Programs\\Python\\Python311\\Lib\\urllib\\request.py:634\u001b[0m, in \u001b[0;36mHTTPErrorProcessor.http_response\u001b[1;34m(self, request, response)\u001b[0m\n\u001b[0;32m    631\u001b[0m \u001b[39m# According to RFC 2616, \"2xx\" code indicates that the client's\u001b[39;00m\n\u001b[0;32m    632\u001b[0m \u001b[39m# request was successfully received, understood, and accepted.\u001b[39;00m\n\u001b[0;32m    633\u001b[0m \u001b[39mif\u001b[39;00m \u001b[39mnot\u001b[39;00m (\u001b[39m200\u001b[39m \u001b[39m<\u001b[39m\u001b[39m=\u001b[39m code \u001b[39m<\u001b[39m \u001b[39m300\u001b[39m):\n\u001b[1;32m--> 634\u001b[0m     response \u001b[39m=\u001b[39m \u001b[39mself\u001b[39;49m\u001b[39m.\u001b[39;49mparent\u001b[39m.\u001b[39;49merror(\n\u001b[0;32m    635\u001b[0m         \u001b[39m'\u001b[39;49m\u001b[39mhttp\u001b[39;49m\u001b[39m'\u001b[39;49m, request, response, code, msg, hdrs)\n\u001b[0;32m    637\u001b[0m \u001b[39mreturn\u001b[39;00m response\n",
      "File \u001b[1;32mc:\\Users\\DuYih\\AppData\\Local\\Programs\\Python\\Python311\\Lib\\urllib\\request.py:563\u001b[0m, in \u001b[0;36mOpenerDirector.error\u001b[1;34m(self, proto, *args)\u001b[0m\n\u001b[0;32m    561\u001b[0m \u001b[39mif\u001b[39;00m http_err:\n\u001b[0;32m    562\u001b[0m     args \u001b[39m=\u001b[39m (\u001b[39mdict\u001b[39m, \u001b[39m'\u001b[39m\u001b[39mdefault\u001b[39m\u001b[39m'\u001b[39m, \u001b[39m'\u001b[39m\u001b[39mhttp_error_default\u001b[39m\u001b[39m'\u001b[39m) \u001b[39m+\u001b[39m orig_args\n\u001b[1;32m--> 563\u001b[0m     \u001b[39mreturn\u001b[39;00m \u001b[39mself\u001b[39;49m\u001b[39m.\u001b[39;49m_call_chain(\u001b[39m*\u001b[39;49margs)\n",
      "File \u001b[1;32mc:\\Users\\DuYih\\AppData\\Local\\Programs\\Python\\Python311\\Lib\\urllib\\request.py:496\u001b[0m, in \u001b[0;36mOpenerDirector._call_chain\u001b[1;34m(self, chain, kind, meth_name, *args)\u001b[0m\n\u001b[0;32m    494\u001b[0m \u001b[39mfor\u001b[39;00m handler \u001b[39min\u001b[39;00m handlers:\n\u001b[0;32m    495\u001b[0m     func \u001b[39m=\u001b[39m \u001b[39mgetattr\u001b[39m(handler, meth_name)\n\u001b[1;32m--> 496\u001b[0m     result \u001b[39m=\u001b[39m func(\u001b[39m*\u001b[39;49margs)\n\u001b[0;32m    497\u001b[0m     \u001b[39mif\u001b[39;00m result \u001b[39mis\u001b[39;00m \u001b[39mnot\u001b[39;00m \u001b[39mNone\u001b[39;00m:\n\u001b[0;32m    498\u001b[0m         \u001b[39mreturn\u001b[39;00m result\n",
      "File \u001b[1;32mc:\\Users\\DuYih\\AppData\\Local\\Programs\\Python\\Python311\\Lib\\urllib\\request.py:643\u001b[0m, in \u001b[0;36mHTTPDefaultErrorHandler.http_error_default\u001b[1;34m(self, req, fp, code, msg, hdrs)\u001b[0m\n\u001b[0;32m    642\u001b[0m \u001b[39mdef\u001b[39;00m \u001b[39mhttp_error_default\u001b[39m(\u001b[39mself\u001b[39m, req, fp, code, msg, hdrs):\n\u001b[1;32m--> 643\u001b[0m     \u001b[39mraise\u001b[39;00m HTTPError(req\u001b[39m.\u001b[39mfull_url, code, msg, hdrs, fp)\n",
      "\u001b[1;31mHTTPError\u001b[0m: HTTP Error 400: Bad Request"
     ]
    }
   ],
   "source": [
    "from Bio import Entrez\n",
    "\n",
    "def download_sample_data(accession_number):\n",
    "    Entrez.email = 'u7457260@anu.edu.au'  \n",
    "    handle = Entrez.efetch(db='nuccore', id=accession_number, rettype='fasta', retmode='text')\n",
    "    data = handle.read()\n",
    "    handle.close()\n",
    "    return data\n",
    "\n",
    "accession_number = 'ERS1882911'\n",
    "sample_data = download_sample_data(accession_number)\n",
    "from Bio import SeqIO\n",
    "\n",
    "def calculate_species_proportion(fasta_data, target_species):\n",
    "    sequences = SeqIO.parse(fasta_data, 'fasta')\n",
    "    total_count = 0\n",
    "    target_count = 0\n",
    "\n",
    "    for sequence in sequences:\n",
    "        description = sequence.description\n",
    "        if target_species in description:\n",
    "            target_count += 1\n",
    "        total_count += 1\n",
    "\n",
    "    proportion = target_count / total_count * 100\n",
    "    return proportion\n",
    "\n",
    "target_species = 'Verrucomicrobia'\n",
    "proportion = calculate_species_proportion(sample_data, target_species)\n",
    "print(f\"The proportion of {target_species} in the sample is: {proportion}%\")\n"
   ]
  }
 ],
 "metadata": {
  "kernelspec": {
   "display_name": "base",
   "language": "python",
   "name": "python3"
  },
  "language_info": {
   "codemirror_mode": {
    "name": "ipython",
    "version": 3
   },
   "file_extension": ".py",
   "mimetype": "text/x-python",
   "name": "python",
   "nbconvert_exporter": "python",
   "pygments_lexer": "ipython3",
   "version": "3.11.0"
  },
  "orig_nbformat": 4
 },
 "nbformat": 4,
 "nbformat_minor": 2
}
