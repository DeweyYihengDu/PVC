{
 "cells": [
  {
   "cell_type": "code",
   "execution_count": 105,
   "metadata": {},
   "outputs": [],
   "source": [
    "import numpy as np\n",
    "import openpyxl\n",
    "from collections import Counter"
   ]
  },
  {
   "cell_type": "code",
   "execution_count": 107,
   "metadata": {},
   "outputs": [],
   "source": [
    "filename='GCA_000739615.1_BATP_s_BvORR071_CDSs.xlsx'\n",
    "\n",
    "def read_xlsx(filename):\n",
    "    workbook = openpyxl.load_workbook(filename)\n",
    "    # 选择工作表\n",
    "    worksheet = workbook['CDSs']\n",
    "    # worksheet = workbook.worksheets[0]\n",
    "    # 读取单元格的值\n",
    "    column = worksheet['C']  # 替换为您要读取的列字母，例如'B'、'C'等\n",
    "\n",
    "    # 遍历列中的单元格并获取值\n",
    "    column_data = []\n",
    "    for cell in column:\n",
    "        column_data.append(cell.value)\n",
    "\n",
    "    # 打印列中的数据\n",
    "    # print(column_data)\n",
    "\n",
    "    # 关闭工作簿\n",
    "    workbook.close()\n",
    "    column_data = [item for item in column_data if item is not None]\n",
    "    return column_data\n",
    "\n",
    "\n",
    "def sum_list(filename):\n",
    "    workbook = openpyxl.load_workbook(filename)\n",
    "    # 选择工作表\n",
    "    worksheet = workbook['CDSs']\n",
    "    # worksheet = workbook.worksheets[0]\n",
    "    # 读取单元格的值\n",
    "    column = worksheet['C']  # 替换为您要读取的列字母，例如'B'、'C'等\n",
    "\n",
    "    # 遍历列中的单元格并获取值\n",
    "    column_data = []\n",
    "    for cell in column:\n",
    "        column_data.append(cell.value)\n",
    "\n",
    "    # 打印列中的数据\n",
    "    # print(column_data)\n",
    "\n",
    "    # 关闭工作簿\n",
    "    workbook.close()\n",
    "    return len(column_data)\n",
    "column_data=read_xlsx(filename)\n",
    "number=sum_list(filename)"
   ]
  },
  {
   "cell_type": "code",
   "execution_count": 109,
   "metadata": {},
   "outputs": [],
   "source": []
  },
  {
   "cell_type": "code",
   "execution_count": 118,
   "metadata": {},
   "outputs": [
    {
     "data": {
      "text/plain": [
       "'GCA_000739615.1'"
      ]
     },
     "execution_count": 118,
     "metadata": {},
     "output_type": "execute_result"
    }
   ],
   "source": [
    "a = []\n",
    "for item in column_data:\n",
    "    if '|' in item:\n",
    "        parts = item.split('|')\n",
    "        column_data.remove(item)\n",
    "    column_data=column_data+parts\n",
    "for j in column_data[1:]:\n",
    "    a.append(j.split(':')[0])\n",
    "counter = Counter(a)\n",
    "\n",
    "# 将结果转换为字典\n",
    "result_dict = {element: count/number for element, count in counter.items()}\n",
    "sample=filename.split('.')[0]+'.'+filename.split('.')[1][0]\n",
    "sample"
   ]
  },
  {
   "cell_type": "code",
   "execution_count": 116,
   "metadata": {},
   "outputs": [
    {
     "data": {
      "text/plain": [
       "'GCA_000739615.1_BATP_s_BvORR071_CDSs.xlsx'"
      ]
     },
     "execution_count": 116,
     "metadata": {},
     "output_type": "execute_result"
    }
   ],
   "source": [
    "filename"
   ]
  },
  {
   "cell_type": "code",
   "execution_count": 117,
   "metadata": {},
   "outputs": [
    {
     "data": {
      "text/plain": [
       "'1'"
      ]
     },
     "execution_count": 117,
     "metadata": {},
     "output_type": "execute_result"
    }
   ],
   "source": [
    "filename.split('.')[1][0]"
   ]
  },
  {
   "cell_type": "code",
   "execution_count": 120,
   "metadata": {},
   "outputs": [
    {
     "name": "stdout",
     "output_type": "stream",
     "text": [
      "CSV文件已生成: c:\\Users\\DuYih\\Desktop\\PVC\\excel\\results.csv\n"
     ]
    }
   ],
   "source": [
    "import os\n",
    "import csv\n",
    "from collections import Counter\n",
    "import openpyxl\n",
    "\n",
    "# 获取当前工作目录\n",
    "current_directory = os.getcwd()\n",
    "\n",
    "# 初始化字典和文件名列表\n",
    "results_dict = {}\n",
    "file_names = []\n",
    "\n",
    "# 遍历当前目录下的所有文件\n",
    "for file in os.listdir(current_directory):\n",
    "    if file.endswith(\".xlsx\"):\n",
    "        file_path = os.path.join(current_directory, file)\n",
    "        file_names.append(file)\n",
    "\n",
    "        # 读取xlsx文件的列数据\n",
    "        column_data = read_xlsx(file_path)\n",
    "\n",
    "        # 统计列数据中的元素出现次数\n",
    "        a = []\n",
    "        for item in column_data:\n",
    "            if '|' in item:\n",
    "                parts = item.split('|')\n",
    "                column_data.remove(item)\n",
    "                column_data += parts\n",
    "            a.append(item.split(':')[0])\n",
    "        counter = Counter(a)\n",
    "\n",
    "        # 将结果转换为字典并进行归一化处理\n",
    "        result_dict = {element: count / len(column_data) for element, count in counter.items()}\n",
    "\n",
    "        # 更新最终结果字典\n",
    "        sample = file.split('.')[0]+'.'+file.split('.')[1][0]\n",
    "        if sample == \"EggNOG ID\":\n",
    "            sample = \"all\"\n",
    "        results_dict[sample] = result_dict\n",
    "\n",
    "# 获取所有出现的key值\n",
    "all_keys = set()\n",
    "for result in results_dict.values():\n",
    "    all_keys.update(result.keys())\n",
    "\n",
    "# 写入CSV文件\n",
    "csv_file_path = os.path.join(current_directory, 'results.csv')\n",
    "with open(csv_file_path, 'w', newline='') as csvfile:\n",
    "    writer = csv.writer(csvfile)\n",
    "\n",
    "    # 写入列名\n",
    "    column_names = ['sample'] + list(all_keys)\n",
    "    writer.writerow(column_names)\n",
    "\n",
    "    # 写入数据行\n",
    "    for sample, result_dict in results_dict.items():\n",
    "        row = [sample]\n",
    "        for key in all_keys:\n",
    "            row.append(result_dict.get(key, 0))\n",
    "        writer.writerow(row)\n",
    "\n",
    "print(\"CSV文件已生成:\", csv_file_path)\n"
   ]
  }
 ],
 "metadata": {
  "kernelspec": {
   "display_name": "Python 3",
   "language": "python",
   "name": "python3"
  },
  "language_info": {
   "codemirror_mode": {
    "name": "ipython",
    "version": 3
   },
   "file_extension": ".py",
   "mimetype": "text/x-python",
   "name": "python",
   "nbconvert_exporter": "python",
   "pygments_lexer": "ipython3",
   "version": "3.11.0"
  },
  "orig_nbformat": 4
 },
 "nbformat": 4,
 "nbformat_minor": 2
}
