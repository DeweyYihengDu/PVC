{
 "cells": [
  {
   "attachments": {},
   "cell_type": "markdown",
   "metadata": {},
   "source": [
    "# Change the .fastq to the .fasta files"
   ]
  },
  {
   "cell_type": "code",
   "execution_count": 1,
   "metadata": {},
   "outputs": [],
   "source": [
    "import os\n",
    "from Bio import SeqIO\n",
    "\n",
    "# 输入文件夹和输出文件夹\n",
    "input_folder = \"C:/Users/DuYih/Desktop/PVC/PRJEB42499/new\"\n",
    "output_folder = \"C:/Users/DuYih/Desktop/PVC/PRJEB42499/fasta\"\n",
    "\n",
    "# 遍历输入文件夹中所有以fastq结尾的文件，并逐个转换为fasta格式文件\n",
    "for file_name in os.listdir(input_folder):\n",
    "    if file_name.endswith(\".fastq\"):\n",
    "        input_file = os.path.join(input_folder, file_name)\n",
    "        output_file = os.path.join(output_folder, file_name.replace(\".fastq\", \".fasta\"))\n",
    "        with open(output_file, \"w\") as out_handle:\n",
    "            for record in SeqIO.parse(input_file, \"fastq\"):\n",
    "                SeqIO.write(record, out_handle, \"fasta\")"
   ]
  },
  {
   "attachments": {},
   "cell_type": "markdown",
   "metadata": {},
   "source": [
    "# In fasta files, change the . to _"
   ]
  },
  {
   "cell_type": "code",
   "execution_count": 2,
   "metadata": {},
   "outputs": [],
   "source": [
    "import os\n",
    "from Bio import SeqIO\n",
    "\n",
    "input_folder = \"C:/Users/DuYih/Desktop/PVC/PRJEB42499/fasta\"\n",
    "\n",
    "for file_name in os.listdir(input_folder):\n",
    "    if file_name.endswith(\".fasta\"):\n",
    "        input_file = os.path.join(input_folder, file_name)\n",
    "        records = []\n",
    "        for record in SeqIO.parse(input_file, \"fasta\"):\n",
    "            record.id = record.id.replace(\".\", \"_\")\n",
    "            record.description = record.description.replace(\".\", \"_\")\n",
    "            records.append(record)\n",
    "        with open(input_file, \"w\") as out_handle:\n",
    "            SeqIO.write(records, out_handle, \"fasta\")"
   ]
  }
 ],
 "metadata": {
  "kernelspec": {
   "display_name": "base",
   "language": "python",
   "name": "python3"
  },
  "language_info": {
   "codemirror_mode": {
    "name": "ipython",
    "version": 3
   },
   "file_extension": ".py",
   "mimetype": "text/x-python",
   "name": "python",
   "nbconvert_exporter": "python",
   "pygments_lexer": "ipython3",
   "version": "3.9.13"
  },
  "orig_nbformat": 4
 },
 "nbformat": 4,
 "nbformat_minor": 2
}
