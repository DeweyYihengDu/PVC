{
 "cells": [
  {
   "cell_type": "code",
   "execution_count": 2,
   "metadata": {},
   "outputs": [
    {
     "name": "stdout",
     "output_type": "stream",
     "text": [
      "      Locus Accession     Version Project  \\\n",
      "0  MT193413  MT193413  MT193413.1    None   \n",
      "1  MT193412  MT193412  MT193412.1    None   \n",
      "2  KT122326  KT122326  KT122326.1    None   \n",
      "3  KT122322  KT122322  KT122322.1    None   \n",
      "4  KT122301  KT122301  KT122301.1    None   \n",
      "\n",
      "                                    Isolation Source  \\\n",
      "0                     patina on cave quartzitic rock   \n",
      "1                     patina on cave quartzitic rock   \n",
      "2  inundated soil of 155m of Shibaozhai,\\n       ...   \n",
      "3  inundated soil of 155m of Shibaozhai,\\n       ...   \n",
      "4  inundated soil of 155m of Shibaozhai,\\n       ...   \n",
      "\n",
      "      Isolation Source Simplified  \n",
      "0  patina on cave quartzitic rock  \n",
      "1  patina on cave quartzitic rock  \n",
      "2                           water  \n",
      "3                           water  \n",
      "4                           water  \n"
     ]
    }
   ],
   "source": [
    "import re\n",
    "import pandas as pd\n",
    "\n",
    "def parse_genbank_v2(file_path):\n",
    "    # Regex patterns for various fields\n",
    "    locus_pattern = re.compile(r\"LOCUS\\s+(\\S+)\")\n",
    "    accession_pattern = re.compile(r\"ACCESSION\\s+(\\S+)\")\n",
    "    version_pattern = re.compile(r\"VERSION\\s+(\\S+)\")\n",
    "    project_pattern = re.compile(r\"BioProject:\\s*(PRJNA\\d+)\")\n",
    "    source_pattern = re.compile(r\"\\/isolation_source=\\\"([^\\\"]+)\\\"\")\n",
    "\n",
    "    data = []\n",
    "    with open(file_path, 'r') as file:\n",
    "        content = file.read()\n",
    "        records = content.split('//')  # Split records, each ends with '//'\n",
    "\n",
    "        for record in records:\n",
    "            locus = locus_pattern.search(record)\n",
    "            accession = accession_pattern.search(record)\n",
    "            version = version_pattern.search(record)\n",
    "            project = project_pattern.search(record)\n",
    "            source = source_pattern.search(record)\n",
    "\n",
    "            data.append({\n",
    "                'Locus': locus.group(1) if locus else None,\n",
    "                'Accession': accession.group(1) if accession else None,\n",
    "                'Version': version.group(1) if version else None,\n",
    "                'Project': project.group(1) if project else None,\n",
    "                'Isolation Source': source.group(1) if source else None\n",
    "            })\n",
    "\n",
    "    return data\n",
    "\n",
    "def simplify_source(text):\n",
    "    if text is None:\n",
    "        return None\n",
    "    if \"feces\" in text:\n",
    "        return \"human feces\"\n",
    "    elif \"water\" in text or \"seawater\" in text:\n",
    "        return \"water\"\n",
    "    elif \"soil\" in text:\n",
    "        return \"soil\"\n",
    "    else:\n",
    "        # Default to the raw text if no simplifications apply\n",
    "        return text.split(',')[0].split(';')[0].strip()\n",
    "\n",
    "# Load and parse the GenBank file\n",
    "file_path = \"C:\\\\Users\\\\DuYih\\\\Desktop\\\\sequence-PVC.gb\"  # Update this path to your file location\n",
    "genbank_data = parse_genbank_v2(file_path)\n",
    "\n",
    "# Convert to DataFrame\n",
    "df = pd.DataFrame(genbank_data)\n",
    "\n",
    "# Apply the simplification function\n",
    "df['Isolation Source Simplified'] = df['Isolation Source'].apply(simplify_source)\n",
    "\n",
    "# Drop rows where all key fields (Locus, Accession, Version) are missing\n",
    "df.dropna(subset=['Locus', 'Accession', 'Version'], how='all', inplace=True)\n",
    "\n",
    "# Display the DataFrame\n",
    "print(df.head())\n"
   ]
  },
  {
   "cell_type": "code",
   "execution_count": 4,
   "metadata": {},
   "outputs": [],
   "source": [
    "df.to_csv('C:\\\\Users\\\\DuYih\\\\Desktop\\\\sequence-PVC.csv', index=False)  # Save the DataFrame to a CSV file"
   ]
  }
 ],
 "metadata": {
  "kernelspec": {
   "display_name": "Python 3",
   "language": "python",
   "name": "python3"
  },
  "language_info": {
   "file_extension": ".jl",
   "mimetype": "application/julia",
   "name": "python",
   "version": "3.11.0"
  }
 },
 "nbformat": 4,
 "nbformat_minor": 2
}
